{
 "cells": [
  {
   "cell_type": "code",
   "execution_count": null,
   "id": "91c50f97",
   "metadata": {},
   "outputs": [],
   "source": [
    "import pandas as pd\n",
    "import numpy as np\n",
    "from datetime import datetime\n",
    "\n",
    "import torch\n",
    "from sentence_transformers import SentenceTransformer\n",
    "\n",
    "from statsmodels.tsa.api import VAR\n",
    "import matplotlib.pyplot as plt"
   ]
  },
  {
   "cell_type": "code",
   "execution_count": null,
   "id": "1fbbf6ea",
   "metadata": {},
   "outputs": [],
   "source": [
    "df = pd.read_csv(\"data.csv\")\n",
    "df['date'] = pd.to_datetime(df['date'])\n",
    "print(df.head())"
   ]
  },
  {
   "cell_type": "code",
   "execution_count": null,
   "id": "d485ebd1",
   "metadata": {},
   "outputs": [],
   "source": [
    "# date,text,value\n",
    "# 2024-01-01,\"Экономика растёт благодаря инвестициям\",10.2\n",
    "# 2024-01-01,\"Рост потребительского доверия\",\n",
    "# 2024-01-02,\"ЦБ повысил ключевую ставку\",\n",
    "# 2024-01-03,\"Снижение курса рубля\",-0.5"
   ]
  },
  {
   "cell_type": "code",
   "execution_count": null,
   "id": "c4d5ff43",
   "metadata": {},
   "outputs": [],
   "source": [
    "# Выбираем модель для векторизации (русский/английский)\n",
    "model = SentenceTransformer('sentence-transformers/distiluse-base-multilingual-cased-v2')\n",
    "\n",
    "# Векторизация текста\n",
    "texts = df['text'].fillna(\"\").tolist()\n",
    "embeddings = model.encode(texts, show_progress_bar=True)\n",
    "\n",
    "# Добавляем эмбеддинги как отдельную колонку\n",
    "df['embedding'] = list(embeddings)"
   ]
  },
  {
   "cell_type": "code",
   "execution_count": null,
   "id": "e1fcebe7",
   "metadata": {},
   "outputs": [],
   "source": [
    "# Создаём DataFrame только с датами и эмбеддингами\n",
    "df_embeddings = df[['date', 'embedding']].copy()\n",
    "\n",
    "# Усреднение эмбеддингов по дням\n",
    "daily_embeddings = df_embeddings.groupby('date')['embedding'].apply(lambda x: np.mean(np.stack(x), axis=0)).reset_index()"
   ]
  },
  {
   "cell_type": "code",
   "execution_count": null,
   "id": "bfb0dda6",
   "metadata": {},
   "outputs": [],
   "source": [
    "# Оставляем только числовые значения\n",
    "df_numeric = df[['date', 'value']].drop_duplicates().set_index('date').asfreq('D')\n",
    "\n",
    "# Объединяем\n",
    "merged_df = pd.merge(daily_embeddings, df_numeric, on='date', how='left').set_index('date').asfreq('D')"
   ]
  },
  {
   "cell_type": "code",
   "execution_count": null,
   "id": "236eb366",
   "metadata": {},
   "outputs": [],
   "source": [
    "# Разделение на текстовые эмбеддинги и числовые признаки\n",
    "X_text = np.vstack(merged_df['embedding'].values)  # shape: [T, D]\n",
    "X_num = merged_df[['value']].values  # shape: [T, 1]\n",
    "\n",
    "# Объединяем в один датасет\n",
    "X_combined = np.hstack([X_text, X_num])  # shape: [T, D+1]"
   ]
  },
  {
   "cell_type": "code",
   "execution_count": null,
   "id": "33e959e8",
   "metadata": {},
   "outputs": [],
   "source": [
    "# Удаляем пропущие значения\n",
    "X_combined_clean = X_combined[~np.isnan(X_combined).any(axis=1)]\n",
    "\n",
    "# Обучаем VAR\n",
    "model_var = VAR(X_combined_clean)\n",
    "results = model_var.fit(maxlags=10, ic='aic')\n",
    "\n",
    "# Прогнозирование\n",
    "forecast = results.forecast(y=X_combined_clean[-results.k_ar:], steps=5)\n",
    "print(\"Прогноз:\\n\", forecast)"
   ]
  },
  {
   "cell_type": "code",
   "execution_count": null,
   "id": "af45edd2",
   "metadata": {},
   "outputs": [],
   "source": [
    "# Рисуем графики\n",
    "plt.figure(figsize=(10, 4))\n",
    "plt.plot(merged_df.index[-20:], X_combined_clean[-20:, -1], label='Real')\n",
    "future_dates = pd.date_range(start=merged_df.index[-1], periods=6, freq='D')[1:]\n",
    "plt.plot(future_dates, forecast[:, -1], label='Predicted', linestyle='--')\n",
    "plt.legend()\n",
    "plt.title('VAR Forecast')\n",
    "plt.grid(True)\n",
    "plt.show()"
   ]
  }
 ],
 "metadata": {
  "kernelspec": {
   "display_name": "dlenv",
   "language": "python",
   "name": "python3"
  },
  "language_info": {
   "name": "python",
   "version": "3.11.11"
  }
 },
 "nbformat": 4,
 "nbformat_minor": 5
}
